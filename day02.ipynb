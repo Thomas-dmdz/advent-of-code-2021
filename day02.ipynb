{
 "cells": [
  {
   "cell_type": "code",
   "execution_count": 1,
   "id": "93e2e955",
   "metadata": {},
   "outputs": [],
   "source": [
    "import pandas as pd\n",
    "import numpy as np"
   ]
  },
  {
   "cell_type": "markdown",
   "id": "ce19e06f",
   "metadata": {},
   "source": [
    "# A"
   ]
  },
  {
   "cell_type": "code",
   "execution_count": 37,
   "id": "0b1c9c2e",
   "metadata": {},
   "outputs": [],
   "source": [
    "df = pd.read_csv('inputs/day02.txt', header=None)"
   ]
  },
  {
   "cell_type": "code",
   "execution_count": 38,
   "id": "786a8913",
   "metadata": {},
   "outputs": [],
   "source": [
    "text = df[0].map(lambda x: x.split(' ')[0]).tolist()\n",
    "val = df[0].map(lambda x: x.split(' ')[1]).map(int).tolist()"
   ]
  },
  {
   "cell_type": "code",
   "execution_count": 39,
   "id": "5edce235",
   "metadata": {},
   "outputs": [],
   "source": [
    "h=0\n",
    "d=0\n",
    "\n",
    "for idx, v in enumerate(text):\n",
    "    if v == 'forward':\n",
    "        h += val[idx]\n",
    "    elif v == 'down':\n",
    "        d += val[idx]\n",
    "    else:\n",
    "        d -= val[idx]"
   ]
  },
  {
   "cell_type": "code",
   "execution_count": 42,
   "id": "6ff133d5",
   "metadata": {},
   "outputs": [
    {
     "data": {
      "text/plain": [
       "1947824"
      ]
     },
     "execution_count": 42,
     "metadata": {},
     "output_type": "execute_result"
    }
   ],
   "source": [
    "d*h"
   ]
  },
  {
   "cell_type": "markdown",
   "id": "5f505b38",
   "metadata": {},
   "source": [
    "# B"
   ]
  },
  {
   "cell_type": "code",
   "execution_count": 47,
   "id": "c5a9017e",
   "metadata": {},
   "outputs": [],
   "source": [
    "h=0\n",
    "d=0\n",
    "a=0\n",
    "\n",
    "for idx, v in enumerate(text):\n",
    "    if v == 'forward':\n",
    "        h += val[idx]\n",
    "        d += a*val[idx]\n",
    "    elif v == 'down':\n",
    "        a += val[idx]\n",
    "    else:\n",
    "        a -= val[idx]"
   ]
  },
  {
   "cell_type": "code",
   "execution_count": 49,
   "id": "912e701f",
   "metadata": {},
   "outputs": [
    {
     "data": {
      "text/plain": [
       "1813062561"
      ]
     },
     "execution_count": 49,
     "metadata": {},
     "output_type": "execute_result"
    }
   ],
   "source": [
    "d*h"
   ]
  }
 ],
 "metadata": {
  "kernelspec": {
   "display_name": "Python 3 (ipykernel)",
   "language": "python",
   "name": "python3"
  },
  "language_info": {
   "codemirror_mode": {
    "name": "ipython",
    "version": 3
   },
   "file_extension": ".py",
   "mimetype": "text/x-python",
   "name": "python",
   "nbconvert_exporter": "python",
   "pygments_lexer": "ipython3",
   "version": "3.8.5"
  }
 },
 "nbformat": 4,
 "nbformat_minor": 5
}
