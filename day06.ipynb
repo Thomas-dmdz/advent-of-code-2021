{
 "cells": [
  {
   "cell_type": "code",
   "execution_count": 59,
   "id": "954d6c2b",
   "metadata": {},
   "outputs": [],
   "source": [
    "import pandas as pd\n",
    "import numpy as np\n",
    "import matplotlib.pyplot as plt"
   ]
  },
  {
   "cell_type": "markdown",
   "id": "69401b32",
   "metadata": {},
   "source": [
    "# Part 1"
   ]
  },
  {
   "cell_type": "code",
   "execution_count": 60,
   "id": "92c1f759",
   "metadata": {},
   "outputs": [],
   "source": [
    "x = list(map(int, [i.replace('\\n', '') for i in open('inputs/day06.txt')][0].split(',')))"
   ]
  },
  {
   "cell_type": "code",
   "execution_count": 61,
   "id": "24732007",
   "metadata": {},
   "outputs": [
    {
     "data": {
      "text/plain": [
       "386640"
      ]
     },
     "execution_count": 61,
     "metadata": {},
     "output_type": "execute_result"
    }
   ],
   "source": [
    "# x = [3,4,3,1,2]\n",
    "\n",
    "x = np.array(x)\n",
    "\n",
    "for i in range(80):\n",
    "    x -= 1\n",
    "    pad = np.repeat(8, (x == -1).sum())\n",
    "    x[x == -1] = 6\n",
    "    x = np.concatenate([x, pad])\n",
    "#     print(x)\n",
    "len(x)"
   ]
  },
  {
   "cell_type": "markdown",
   "id": "c05df3d6",
   "metadata": {},
   "source": [
    "# Part 2"
   ]
  },
  {
   "cell_type": "code",
   "execution_count": 74,
   "id": "584ac2c3",
   "metadata": {},
   "outputs": [
    {
     "data": {
      "text/plain": [
       "array([1, 2, 3, 4, 5])"
      ]
     },
     "execution_count": 74,
     "metadata": {},
     "output_type": "execute_result"
    }
   ],
   "source": [
    "x = list(map(int, [i.replace('\\n', '') for i in open('inputs/day06.txt')][0].split(',')))\n",
    "np.unique(x)"
   ]
  },
  {
   "cell_type": "code",
   "execution_count": 75,
   "id": "27b2bab5",
   "metadata": {},
   "outputs": [],
   "source": [
    "# x = [3,4,3,1,2]"
   ]
  },
  {
   "cell_type": "code",
   "execution_count": 76,
   "id": "fc1d0beb",
   "metadata": {},
   "outputs": [],
   "source": [
    "def f(x, n):\n",
    "    x = np.array(x)\n",
    "    for i in range(n):\n",
    "        x -= 1\n",
    "        pad = np.repeat(8, (x == -1).sum())\n",
    "        x[x == -1] = 6\n",
    "        x = np.concatenate([x, pad])\n",
    "    return x"
   ]
  },
  {
   "cell_type": "code",
   "execution_count": 77,
   "id": "b2f543e6",
   "metadata": {},
   "outputs": [
    {
     "data": {
      "text/plain": [
       "386640"
      ]
     },
     "execution_count": 77,
     "metadata": {},
     "output_type": "execute_result"
    }
   ],
   "source": [
    "len(f(x,80))"
   ]
  },
  {
   "cell_type": "code",
   "execution_count": 79,
   "id": "61af35bf",
   "metadata": {},
   "outputs": [
    {
     "name": "stdout",
     "output_type": "stream",
     "text": [
      "CPU times: user 16min 57s, sys: 31.5 ms, total: 16min 57s\n",
      "Wall time: 16min 57s\n"
     ]
    }
   ],
   "source": [
    "%%time\n",
    "def g(x):\n",
    "    m = 18\n",
    "    l = 0\n",
    "    y = f([x], 128 - m)\n",
    "    for i in y:\n",
    "        l += f([i], 128 + m).shape[0]\n",
    "    return l\n",
    "\n",
    "uni = np.unique(x)\n",
    "val = [g(k) for k in uni]"
   ]
  },
  {
   "cell_type": "code",
   "execution_count": 93,
   "id": "fc364518",
   "metadata": {
    "scrolled": true
   },
   "outputs": [
    {
     "data": {
      "text/plain": [
       "1733403626279"
      ]
     },
     "execution_count": 93,
     "metadata": {},
     "output_type": "execute_result"
    }
   ],
   "source": [
    "my_input = pd.value_counts(x).reset_index(name='counts')\n",
    "my_output = pd.DataFrame({'index':uni, 'val':val})\n",
    "temp = pd.merge(my_input, my_output, how='left', on='index')\n",
    "(temp.counts*temp.val).sum()"
   ]
  }
 ],
 "metadata": {
  "kernelspec": {
   "display_name": "Python 3 (ipykernel)",
   "language": "python",
   "name": "python3"
  },
  "language_info": {
   "codemirror_mode": {
    "name": "ipython",
    "version": 3
   },
   "file_extension": ".py",
   "mimetype": "text/x-python",
   "name": "python",
   "nbconvert_exporter": "python",
   "pygments_lexer": "ipython3",
   "version": "3.8.5"
  }
 },
 "nbformat": 4,
 "nbformat_minor": 5
}
