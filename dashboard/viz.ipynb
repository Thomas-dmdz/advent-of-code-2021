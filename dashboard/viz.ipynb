{
 "cells": [
  {
   "cell_type": "markdown",
   "id": "d9e4739b",
   "metadata": {},
   "source": [
    "https://adventofcode.com/\n",
    "\n",
    "https://adventofcode.com/2021/leaderboard/private/view/384411.json\n",
    "\n",
    "https://adventofcode.com/2021/leaderboard/private/view/384411"
   ]
  },
  {
   "cell_type": "code",
   "execution_count": 1,
   "id": "e29dc88c",
   "metadata": {},
   "outputs": [],
   "source": [
    "import numpy as np\n",
    "import pandas as pd\n",
    "import json"
   ]
  },
  {
   "cell_type": "code",
   "execution_count": 2,
   "id": "bfcf21c9",
   "metadata": {
    "scrolled": true
   },
   "outputs": [],
   "source": [
    "file = '384411.json'"
   ]
  },
  {
   "cell_type": "markdown",
   "id": "d5ec7cf9",
   "metadata": {},
   "source": [
    "##### json to dataframe"
   ]
  },
  {
   "cell_type": "code",
   "execution_count": 3,
   "id": "de65a2de",
   "metadata": {},
   "outputs": [],
   "source": [
    "data = json.load(open(file))['members']\n",
    "\n",
    "li = [list(data[i]['completion_day_level'].keys()) for i in data]\n",
    "days = np.unique([item for sublist in li for item in sublist]).tolist()\n",
    "\n",
    "name = []\n",
    "date = []\n",
    "puzzle1 = []\n",
    "puzzle2 = []\n",
    "\n",
    "for i in data:\n",
    "    for day in days:\n",
    "        part1 = None\n",
    "        part2 = None\n",
    "        try:\n",
    "            part1 = data[i]['completion_day_level'][day]['1']['get_star_ts']\n",
    "            part2 = data[i]['completion_day_level'][day]['2']['get_star_ts']\n",
    "        except:\n",
    "            pass\n",
    "        \n",
    "        name.append(data[i]['name'])\n",
    "        date.append(day)\n",
    "        puzzle1.append(part1)\n",
    "        puzzle2.append(part2)\n",
    "df = pd.DataFrame(dict(zip(['name', 'day', 1, 2], [name, date, puzzle1, puzzle2])))\n",
    "df = pd.melt(df, id_vars=['name', 'day'], value_vars=[1, 2]).rename({'variable': 'part', 'value': 'time'}, axis=1)\n",
    "\n",
    "# data types\n",
    "df['time'] = pd.to_datetime(df['time'], unit='s').dt.tz_localize('UTC').dt.tz_convert('CET')\n",
    "for k, v in {'name': str, 'day': int, 'part': int}.items():\n",
    "    df[k] = df[k].astype(v)"
   ]
  },
  {
   "cell_type": "code",
   "execution_count": 4,
   "id": "27c84f0a",
   "metadata": {
    "scrolled": true
   },
   "outputs": [],
   "source": [
    "df = df.sort_values(['day', 'part', 'time'])"
   ]
  },
  {
   "cell_type": "code",
   "execution_count": 5,
   "id": "9a34f999",
   "metadata": {},
   "outputs": [],
   "source": [
    "df['score'] = list(range(df.name.nunique(), 0, -1))*(df.day.nunique()*df.part.nunique())\n",
    "df.loc[df['time'].isnull(), 'score'] = 0"
   ]
  },
  {
   "cell_type": "code",
   "execution_count": 7,
   "id": "c91d922c",
   "metadata": {
    "scrolled": true
   },
   "outputs": [
    {
     "data": {
      "text/plain": [
       "name\n",
       "Alexandre Léonard       71\n",
       "bisonfoutu              63\n",
       "tchapeaux               58\n",
       "Marco                   44\n",
       "Thomas Lenzi            43\n",
       "Thomas de Mondesir      40\n",
       "Axel Manzano            34\n",
       "GjeloshajAntoine        12\n",
       "Hugo Caetano            12\n",
       "Allan Guichard           4\n",
       "Kevin Tassi              0\n",
       "Mickael van der Beek     0\n",
       "Name: score, dtype: int64"
      ]
     },
     "execution_count": 7,
     "metadata": {},
     "output_type": "execute_result"
    }
   ],
   "source": [
    "df.groupby('name')['score'].sum().sort_values(ascending=False)"
   ]
  }
 ],
 "metadata": {
  "kernelspec": {
   "display_name": "Python 3 (ipykernel)",
   "language": "python",
   "name": "python3"
  },
  "language_info": {
   "codemirror_mode": {
    "name": "ipython",
    "version": 3
   },
   "file_extension": ".py",
   "mimetype": "text/x-python",
   "name": "python",
   "nbconvert_exporter": "python",
   "pygments_lexer": "ipython3",
   "version": "3.8.5"
  }
 },
 "nbformat": 4,
 "nbformat_minor": 5
}
