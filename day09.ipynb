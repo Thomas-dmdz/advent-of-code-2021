{
 "cells": [
  {
   "cell_type": "code",
   "execution_count": 76,
   "id": "46cb6379",
   "metadata": {},
   "outputs": [],
   "source": [
    "import pandas as pd\n",
    "import numpy as np\n",
    "import matplotlib.pyplot as plt"
   ]
  },
  {
   "cell_type": "markdown",
   "id": "66d14c44",
   "metadata": {},
   "source": [
    "# Part 1"
   ]
  },
  {
   "cell_type": "code",
   "execution_count": 77,
   "id": "607ef4ea",
   "metadata": {},
   "outputs": [],
   "source": [
    "file = 'inputs/day09.txt'\n",
    "x = [list(i.replace('\\n', '')) for i in open(file)]\n",
    "x = np.array(x, dtype=int)"
   ]
  },
  {
   "cell_type": "code",
   "execution_count": 78,
   "id": "4556309d",
   "metadata": {},
   "outputs": [],
   "source": [
    "#pading\n",
    "p = np.ones_like(x)[:,:1]*(10)\n",
    "x = np.concatenate([p, x, p], axis=1)\n",
    "p = np.ones_like(x)[:1,:]*(10)\n",
    "x = np.concatenate([p, x, p], axis=0)"
   ]
  },
  {
   "cell_type": "code",
   "execution_count": 79,
   "id": "b2a947cd",
   "metadata": {},
   "outputs": [
    {
     "data": {
      "text/plain": [
       "456"
      ]
     },
     "execution_count": 79,
     "metadata": {},
     "output_type": "execute_result"
    }
   ],
   "source": [
    "y = np.zeros_like(x)\n",
    "for i in range(1, x.shape[0]-1):\n",
    "    for j in range(1, x.shape[1]-1):\n",
    "        if x[i,j]<x[i,j+1] and x[i,j]<x[i+1,j] and x[i,j]<x[i,j-1] and x[i,j]<x[i-1,j]:\n",
    "            y[i,j]=1\n",
    "(x[y==1]+1).sum()"
   ]
  },
  {
   "cell_type": "markdown",
   "id": "40c5197a",
   "metadata": {},
   "source": [
    "# Part 2"
   ]
  },
  {
   "cell_type": "code",
   "execution_count": 84,
   "id": "4f9cb47c",
   "metadata": {},
   "outputs": [],
   "source": [
    "file = 'inputs/day09.txt'\n",
    "x = [list(i.replace('\\n', '')) for i in open(file)]\n",
    "x = np.array(x, dtype=int)"
   ]
  },
  {
   "cell_type": "code",
   "execution_count": 85,
   "id": "37615705",
   "metadata": {},
   "outputs": [],
   "source": [
    "from skimage.morphology import label"
   ]
  },
  {
   "cell_type": "code",
   "execution_count": 86,
   "id": "3f6170da",
   "metadata": {},
   "outputs": [],
   "source": [
    "y = np.zeros_like(x)\n",
    "y[x==9]=1"
   ]
  },
  {
   "cell_type": "code",
   "execution_count": 87,
   "id": "9bf5c5ab",
   "metadata": {},
   "outputs": [
    {
     "data": {
      "text/plain": [
       "1047744"
      ]
     },
     "execution_count": 87,
     "metadata": {},
     "output_type": "execute_result"
    }
   ],
   "source": [
    "labels = label(y, connectivity=1, background=1)\n",
    "\n",
    "np.product(sorted([(labels==i).sum() for i in np.unique(labels)[1:]])[-3:])"
   ]
  }
 ],
 "metadata": {
  "kernelspec": {
   "display_name": "Python 3 (ipykernel)",
   "language": "python",
   "name": "python3"
  },
  "language_info": {
   "codemirror_mode": {
    "name": "ipython",
    "version": 3
   },
   "file_extension": ".py",
   "mimetype": "text/x-python",
   "name": "python",
   "nbconvert_exporter": "python",
   "pygments_lexer": "ipython3",
   "version": "3.8.5"
  }
 },
 "nbformat": 4,
 "nbformat_minor": 5
}
