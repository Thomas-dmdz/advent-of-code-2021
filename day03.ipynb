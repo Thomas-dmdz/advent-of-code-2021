{
 "cells": [
  {
   "cell_type": "code",
   "execution_count": 1,
   "id": "85089b5c",
   "metadata": {},
   "outputs": [],
   "source": [
    "import pandas as pd\n",
    "import numpy as np"
   ]
  },
  {
   "cell_type": "markdown",
   "id": "2709a02f",
   "metadata": {},
   "source": [
    "# A"
   ]
  },
  {
   "cell_type": "code",
   "execution_count": 157,
   "id": "63224027",
   "metadata": {},
   "outputs": [],
   "source": [
    "gamma = int(''.join(np.array([list(i[:-1]) for i in open('inputs/day03.txt')]).astype(int).mean(axis=0).round()\\\n",
    ".astype(int).astype(str)), 2)"
   ]
  },
  {
   "cell_type": "code",
   "execution_count": 158,
   "id": "1d341393",
   "metadata": {},
   "outputs": [],
   "source": [
    "eps = int(''.join((1 - np.array([list(i[:-1]) for i in open('inputs/day03.txt')]).astype(int).mean(axis=0)).round()\\\n",
    ".astype(int).astype(str)), 2)"
   ]
  },
  {
   "cell_type": "code",
   "execution_count": 159,
   "id": "8aec970c",
   "metadata": {
    "scrolled": true
   },
   "outputs": [
    {
     "data": {
      "text/plain": [
       "3148794"
      ]
     },
     "execution_count": 159,
     "metadata": {},
     "output_type": "execute_result"
    }
   ],
   "source": [
    "gamma*eps"
   ]
  },
  {
   "cell_type": "markdown",
   "id": "bf78cf9d",
   "metadata": {},
   "source": [
    "# B"
   ]
  },
  {
   "cell_type": "code",
   "execution_count": 186,
   "id": "04f1dbcb",
   "metadata": {},
   "outputs": [
    {
     "data": {
      "text/plain": [
       "2349"
      ]
     },
     "execution_count": 186,
     "metadata": {},
     "output_type": "execute_result"
    }
   ],
   "source": [
    "x = np.array([list(i[:-1]) for i in open('inputs/day03.txt')]).astype(int)\n",
    "\n",
    "j = 0\n",
    "while x.shape[0] > 1:\n",
    "    col = x[:,j]\n",
    "    m = col.mean()\n",
    "    if m != 0.5:\n",
    "        x = x[col == int(round(m))]\n",
    "    else:\n",
    "        x = x[col == 1]\n",
    "    j += 1\n",
    "int(''.join(x[0].astype(str).tolist()), 2)"
   ]
  },
  {
   "cell_type": "code",
   "execution_count": 187,
   "id": "676b6a81",
   "metadata": {},
   "outputs": [
    {
     "data": {
      "text/plain": [
       "1190"
      ]
     },
     "execution_count": 187,
     "metadata": {},
     "output_type": "execute_result"
    }
   ],
   "source": [
    "x = np.array([list(i[:-1]) for i in open('inputs/day03.txt')]).astype(int)\n",
    "\n",
    "j = 0\n",
    "while x.shape[0] > 1:\n",
    "    col = x[:,j]\n",
    "    m = col.mean()\n",
    "    if m != 0.5:\n",
    "        x = x[col == (1 - int(round(m)))]\n",
    "    else:\n",
    "        x = x[col == 0]\n",
    "    j += 1\n",
    "int(''.join(x[0].astype(str).tolist()), 2)"
   ]
  },
  {
   "cell_type": "code",
   "execution_count": 188,
   "id": "e5907ad4",
   "metadata": {},
   "outputs": [
    {
     "data": {
      "text/plain": [
       "2795310"
      ]
     },
     "execution_count": 188,
     "metadata": {},
     "output_type": "execute_result"
    }
   ],
   "source": [
    "2349*1190"
   ]
  },
  {
   "cell_type": "markdown",
   "id": "aad254f4",
   "metadata": {},
   "source": [
    "# debug"
   ]
  },
  {
   "cell_type": "markdown",
   "id": "38a3b32f",
   "metadata": {},
   "source": [
    "##### how I lost 40 min ..."
   ]
  },
  {
   "cell_type": "code",
   "execution_count": 193,
   "id": "c447f46d",
   "metadata": {},
   "outputs": [
    {
     "data": {
      "text/plain": [
       "array([12, 11, 10,  9,  8,  7,  6,  5,  4])"
      ]
     },
     "execution_count": 193,
     "metadata": {},
     "output_type": "execute_result"
    }
   ],
   "source": [
    "pd.read_csv('inputs/day03.txt', header=None)[0].map(str).map(len).unique()"
   ]
  },
  {
   "cell_type": "code",
   "execution_count": 201,
   "id": "4e7cbe50",
   "metadata": {
    "scrolled": false
   },
   "outputs": [
    {
     "data": {
      "text/plain": [
       "array([12])"
      ]
     },
     "execution_count": 201,
     "metadata": {},
     "output_type": "execute_result"
    }
   ],
   "source": [
    "pd.read_csv('inputs/day03.txt', header=None, dtype=str)[0].map(len).unique()"
   ]
  }
 ],
 "metadata": {
  "kernelspec": {
   "display_name": "Python 3 (ipykernel)",
   "language": "python",
   "name": "python3"
  },
  "language_info": {
   "codemirror_mode": {
    "name": "ipython",
    "version": 3
   },
   "file_extension": ".py",
   "mimetype": "text/x-python",
   "name": "python",
   "nbconvert_exporter": "python",
   "pygments_lexer": "ipython3",
   "version": "3.8.5"
  }
 },
 "nbformat": 4,
 "nbformat_minor": 5
}
