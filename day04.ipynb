{
 "cells": [
  {
   "cell_type": "code",
   "execution_count": 225,
   "id": "ba7bf36c",
   "metadata": {},
   "outputs": [],
   "source": [
    "import pandas as pd\n",
    "import numpy as np"
   ]
  },
  {
   "cell_type": "markdown",
   "id": "541209cc",
   "metadata": {},
   "source": [
    "# Part 1"
   ]
  },
  {
   "cell_type": "code",
   "execution_count": 254,
   "id": "b16b90f3",
   "metadata": {},
   "outputs": [],
   "source": [
    "data = [i for i in open('inputs/day04.txt')]"
   ]
  },
  {
   "cell_type": "code",
   "execution_count": 255,
   "id": "f0983bdb",
   "metadata": {},
   "outputs": [],
   "source": [
    "draw = list(map(int, data[0][:-1].split(',')))"
   ]
  },
  {
   "cell_type": "code",
   "execution_count": 256,
   "id": "c30957af",
   "metadata": {},
   "outputs": [],
   "source": [
    "# boards\n",
    "x = [i.replace('\\n', '').replace('  ', ' ').split() for i in data[2:] if i != '\\n']\n",
    "x = np.stack([x[i:i+5] for i in range(0, len(x), 5)], axis=2).astype(int)\n",
    "# concat transposed boards to avoid making cases with rows and columns\n",
    "x = np.concatenate([x, np.stack([x[..., k].T for k in range(x.shape[2])], axis=2)], axis=2)"
   ]
  },
  {
   "cell_type": "code",
   "execution_count": 257,
   "id": "6cca6844",
   "metadata": {
    "scrolled": true
   },
   "outputs": [
    {
     "name": "stdout",
     "output_type": "stream",
     "text": [
      "bingo\n",
      "67716\n"
     ]
    }
   ],
   "source": [
    "bingo = False\n",
    "idx = 0\n",
    "while not bingo:\n",
    "    drawn = draw[:idx+1]\n",
    "    marked = np.logical_or.reduce([x==i for i in drawn])\n",
    "    check = marked.sum(axis=0) == 5\n",
    "    idx += 1\n",
    "    if check.sum() != 0:\n",
    "        print('bingo')\n",
    "        bingo = True\n",
    "        board_idx = np.where(check)[1][0]\n",
    "        board = x[..., board_idx]\n",
    "        print(board[np.where(marked[..., board_idx] == False)].sum() * drawn[-1])"
   ]
  },
  {
   "cell_type": "markdown",
   "id": "795a24ed",
   "metadata": {},
   "source": [
    "# Part 2"
   ]
  },
  {
   "cell_type": "code",
   "execution_count": 264,
   "id": "28eabbff",
   "metadata": {},
   "outputs": [
    {
     "data": {
      "text/html": [
       "<div>\n",
       "<style scoped>\n",
       "    .dataframe tbody tr th:only-of-type {\n",
       "        vertical-align: middle;\n",
       "    }\n",
       "\n",
       "    .dataframe tbody tr th {\n",
       "        vertical-align: top;\n",
       "    }\n",
       "\n",
       "    .dataframe thead th {\n",
       "        text-align: right;\n",
       "    }\n",
       "</style>\n",
       "<table border=\"1\" class=\"dataframe\">\n",
       "  <thead>\n",
       "    <tr style=\"text-align: right;\">\n",
       "      <th></th>\n",
       "      <th>board</th>\n",
       "      <th>idx</th>\n",
       "      <th>og_board</th>\n",
       "    </tr>\n",
       "  </thead>\n",
       "  <tbody>\n",
       "    <tr>\n",
       "      <th>192</th>\n",
       "      <td>131</td>\n",
       "      <td>85</td>\n",
       "      <td>31</td>\n",
       "    </tr>\n",
       "  </tbody>\n",
       "</table>\n",
       "</div>"
      ],
      "text/plain": [
       "     board  idx  og_board\n",
       "192    131   85        31"
      ]
     },
     "execution_count": 264,
     "metadata": {},
     "output_type": "execute_result"
    }
   ],
   "source": [
    "bingo_boards = []\n",
    "bingo_indices = []\n",
    "for idx in range(len(draw)):\n",
    "    drawn = draw[:idx+1]\n",
    "    marked = np.logical_or.reduce([x==i for i in drawn])\n",
    "    check = marked.sum(axis=0) == 5\n",
    "    if check.sum() != 0:\n",
    "        win_boards = np.where(check)[1]\n",
    "        for w in win_boards:\n",
    "            if w not in bingo_boards:\n",
    "                bingo_boards.append(w)\n",
    "                bingo_indices.append(idx)\n",
    "df = pd.DataFrame({'board': bingo_boards, 'idx': bingo_indices})\n",
    "df['og_board'] = df.board.map(lambda x: x-100 if x>=100 else x)\n",
    "last = df.drop_duplicates(subset='og_board').tail(1)\n",
    "idx = last.idx.values[0]\n",
    "board = last.og_board.values[0]\n",
    "last"
   ]
  },
  {
   "cell_type": "code",
   "execution_count": 278,
   "id": "b9581027",
   "metadata": {},
   "outputs": [
    {
     "data": {
      "text/plain": [
       "1830"
      ]
     },
     "execution_count": 278,
     "metadata": {},
     "output_type": "execute_result"
    }
   ],
   "source": [
    "x[..., board][np.logical_or.reduce([x[..., board] == i for i in draw[:idx+1]]) == False]\\\n",
    "    .sum()*draw[idx]"
   ]
  }
 ],
 "metadata": {
  "kernelspec": {
   "display_name": "Python 3 (ipykernel)",
   "language": "python",
   "name": "python3"
  },
  "language_info": {
   "codemirror_mode": {
    "name": "ipython",
    "version": 3
   },
   "file_extension": ".py",
   "mimetype": "text/x-python",
   "name": "python",
   "nbconvert_exporter": "python",
   "pygments_lexer": "ipython3",
   "version": "3.8.12"
  }
 },
 "nbformat": 4,
 "nbformat_minor": 5
}
